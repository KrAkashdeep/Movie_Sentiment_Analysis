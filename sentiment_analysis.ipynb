{
 "cells": [
  {
   "cell_type": "code",
   "execution_count": 1,
   "metadata": {
    "colab": {
     "base_uri": "https://localhost:8080/"
    },
    "id": "Dw-_qeWkqbJM",
    "outputId": "dd0bf8e5-a130-4286-e74a-d4a6b6b355d6"
   },
   "outputs": [
    {
     "name": "stderr",
     "output_type": "stream",
     "text": [
      "[nltk_data] Downloading package stopwords to\n",
      "[nltk_data]     C:\\Users\\akash\\AppData\\Roaming\\nltk_data...\n",
      "[nltk_data]   Package stopwords is already up-to-date!\n",
      "[nltk_data] Downloading package punkt to\n",
      "[nltk_data]     C:\\Users\\akash\\AppData\\Roaming\\nltk_data...\n",
      "[nltk_data]   Package punkt is already up-to-date!\n"
     ]
    },
    {
     "data": {
      "text/plain": [
       "True"
      ]
     },
     "execution_count": 1,
     "metadata": {},
     "output_type": "execute_result"
    }
   ],
   "source": [
    "import nltk\n",
    "nltk.download('stopwords')\n",
    "nltk.download('punkt')"
   ]
  },
  {
   "cell_type": "code",
   "execution_count": 2,
   "metadata": {
    "colab": {
     "base_uri": "https://localhost:8080/"
    },
    "id": "OBalrqLqqqen",
    "outputId": "5b39c1dd-cc38-4091-ce66-0586f7238e21"
   },
   "outputs": [
    {
     "name": "stderr",
     "output_type": "stream",
     "text": [
      "C:\\Users\\akash\\AppData\\Local\\Temp\\ipykernel_14444\\2388030857.py:17: MarkupResemblesLocatorWarning: The input looks more like a filename than markup. You may want to open this file and pass the filehandle into Beautiful Soup.\n",
      "  text = BeautifulSoup(text, \"html.parser\").get_text()\n"
     ]
    },
    {
     "name": "stdout",
     "output_type": "stream",
     "text": [
      "                                              review sentiment  \\\n",
      "0  One of the other reviewers has mentioned that ...  positive   \n",
      "1  A wonderful little production. <br /><br />The...  positive   \n",
      "2  I thought this was a wonderful way to spend ti...  positive   \n",
      "3  Basically there's a family where a little boy ...  negative   \n",
      "4  Petter Mattei's \"Love in the Time of Money\" is...  positive   \n",
      "\n",
      "                                      cleaned_review  \n",
      "0  one reviewers mentioned watching oz episode ho...  \n",
      "1  wonderful little production filming technique ...  \n",
      "2  thought wonderful way spend time hot summer we...  \n",
      "3  basically family little boy jake thinks zombie...  \n",
      "4  petter mattei love time money visually stunnin...  \n"
     ]
    }
   ],
   "source": [
    "import pandas as pd\n",
    "import re\n",
    "from nltk.corpus import stopwords\n",
    "from nltk.tokenize import word_tokenize\n",
    "from bs4 import BeautifulSoup\n",
    "\n",
    "# Load the dataset\n",
    "\n",
    "data = pd.read_csv('IMDB Dataset.csv',nrows=5000)\n",
    "\n",
    "# Initialize stop words\n",
    "stop_words = set(stopwords.words('english'))\n",
    "\n",
    "# Function for text preprocessing\n",
    "def preprocess_text(text):\n",
    "    # Remove HTML tags\n",
    "    text = BeautifulSoup(text, \"html.parser\").get_text()\n",
    "    # Remove non-alphabetic characters\n",
    "    text = re.sub(\"[^a-zA-Z]\", \" \", text)\n",
    "    # Convert to lowercase\n",
    "    text = text.lower()\n",
    "    # Tokenize\n",
    "    words = word_tokenize(text)\n",
    "    # Remove stop words\n",
    "    words = [word for word in words if word not in stop_words]\n",
    "    # Join words back into a single string\n",
    "    return \" \".join(words)\n",
    "\n",
    "# Apply preprocessing to the review column\n",
    "data['cleaned_review'] = data['review'].apply(preprocess_text)\n",
    "\n",
    "# Display the first few rows of the dataset after preprocessing\n",
    "print(data.head())\n"
   ]
  },
  {
   "cell_type": "code",
   "execution_count": 3,
   "metadata": {
    "colab": {
     "base_uri": "https://localhost:8080/"
    },
    "id": "mBsikKgLrYb9",
    "outputId": "8be588f9-7b66-459e-8607-b76ede6fe984"
   },
   "outputs": [
    {
     "name": "stdout",
     "output_type": "stream",
     "text": [
      "(5000, 9999) (5000,)\n"
     ]
    }
   ],
   "source": [
    "from sklearn.feature_extraction.text import TfidfVectorizer\n",
    "\n",
    "# Create TF-IDF features\n",
    "tfidf_vectorizer = TfidfVectorizer(max_features=5000)\n",
    "X = tfidf_vectorizer.fit_transform(data['cleaned_review']).toarray()\n",
    "\n",
    "# Encode the target variable\n",
    "y = data['sentiment'].apply(lambda x: 1 if x == 'positive' else 0)\n",
    "\n",
    "# Display the shape of the feature matrix and target vector\n",
    "print(X.shape, y.shape)\n"
   ]
  },
  {
   "cell_type": "code",
   "execution_count": 4,
   "metadata": {
    "colab": {
     "base_uri": "https://localhost:8080/"
    },
    "id": "bDNWFheYrcO4",
    "outputId": "534b0405-d58c-41f7-e9bd-bd92b49611d4"
   },
   "outputs": [
    {
     "name": "stdout",
     "output_type": "stream",
     "text": [
      "Accuracy: 0.871\n",
      "F1-Score: 0.8654848800834203\n",
      "              precision    recall  f1-score   support\n",
      "\n",
      "           0       0.89      0.86      0.88       530\n",
      "           1       0.85      0.88      0.87       470\n",
      "\n",
      "    accuracy                           0.87      1000\n",
      "   macro avg       0.87      0.87      0.87      1000\n",
      "weighted avg       0.87      0.87      0.87      1000\n",
      "\n"
     ]
    }
   ],
   "source": [
    "from sklearn.model_selection import train_test_split\n",
    "from sklearn.linear_model import LogisticRegression\n",
    "from sklearn.metrics import accuracy_score, f1_score, classification_report\n",
    "\n",
    "# Split the data into training and testing sets\n",
    "X_train, X_test, y_train, y_test = train_test_split(X, y, test_size=0.2, random_state=42)\n",
    "\n",
    "# Initialize and train the model\n",
    "model = LogisticRegression(max_iter=1000)\n",
    "model.fit(X_train, y_train)\n",
    "\n",
    "# Predict on the test set\n",
    "y_pred = model.predict(X_test)\n",
    "\n",
    "# Evaluate the model\n",
    "accuracy = accuracy_score(y_test, y_pred)\n",
    "f1 = f1_score(y_test, y_pred)\n",
    "\n",
    "print(f\"Accuracy: {accuracy}\")\n",
    "print(f\"F1-Score: {f1}\")\n",
    "print(classification_report(y_test, y_pred))\n"
   ]
  },
  {
   "cell_type": "code",
   "execution_count": 5,
   "metadata": {
    "colab": {
     "base_uri": "https://localhost:8080/",
     "height": 1000
    },
    "id": "8XNFOxBmsHG3",
    "outputId": "c15d2b71-09f2-4ab3-cb29-1604abb22d66"
   },
   "outputs": [
    {
     "name": "stdout",
     "output_type": "stream",
     "text": [
      "Classification Report:\n",
      "              precision    recall  f1-score   support\n",
      "\n",
      "           0       0.89      0.86      0.88       530\n",
      "           1       0.85      0.88      0.87       470\n",
      "\n",
      "    accuracy                           0.87      1000\n",
      "   macro avg       0.87      0.87      0.87      1000\n",
      "weighted avg       0.87      0.87      0.87      1000\n",
      "\n",
      "Confusion Matrix:\n",
      "[[456  74]\n",
      " [ 55 415]]\n"
     ]
    },
    {
     "data": {
      "image/png": "[encoded data removed]",
      "text/plain": [
       "<Figure size 800x600 with 2 Axes>"
      ]
     },
     "metadata": {},
     "output_type": "display_data"
    },
    {
     "name": "stdout",
     "output_type": "stream",
     "text": [
      "                                                 review  \\\n",
      "2605  Although this movie doesn't have the darkness ...   \n",
      "122   \"A bored television director is introduced to ...   \n",
      "1044  A good documentary reviewing the background be...   \n",
      "2527  So when Bob and Marion Boxletter see a guy at ...   \n",
      "1255  If you haven't figured out what is going to ha...   \n",
      "3338  *Spoilers - sorry!* The first word that sprung...   \n",
      "4023  Jude law gives Keanu Reeves a run for his mone...   \n",
      "1907  This movie is not very good.In fact, it is the...   \n",
      "681   Never saw the original movie in the series...I...   \n",
      "501   My Father The Hero used to be my favorite movi...   \n",
      "\n",
      "                                         cleaned_review  actual_sentiment  \\\n",
      "2605  although movie darkness books opinion great mo...                 1   \n",
      "122   bored television director introduced black art...                 0   \n",
      "1044  good documentary reviewing background behind s...                 1   \n",
      "2527  bob marion boxletter see guy hotel marion beli...                 0   \n",
      "1255  figured going happen film first five minutes g...                 0   \n",
      "3338  spoilers sorry first word sprung mind whilst w...                 0   \n",
      "4023  jude law gives keanu reeves run money wooden a...                 0   \n",
      "1907  movie good fact worst elvis movie seen little ...                 0   \n",
      "681   never saw original movie series hope much bett...                 0   \n",
      "501   father hero used favorite movie younger andre ...                 1   \n",
      "\n",
      "      predicted_sentiment  \n",
      "2605                    1  \n",
      "122                     1  \n",
      "1044                    1  \n",
      "2527                    0  \n",
      "1255                    0  \n",
      "3338                    0  \n",
      "4023                    0  \n",
      "1907                    0  \n",
      "681                     0  \n",
      "501                     1  \n",
      "Review: This movie was absolutely fantastic! The storyline was gripping and the characters were so well-developed.\n",
      "Predicted Sentiment: positive\n",
      "\n",
      "Review: I didn't like this movie at all. The plot was boring and the acting was terrible.\n",
      "Predicted Sentiment: negative\n",
      "\n"
     ]
    }
   ],
   "source": [
    "from sklearn.metrics import classification_report, confusion_matrix\n",
    "import seaborn as sns\n",
    "import matplotlib.pyplot as plt\n",
    "\n",
    "# Evaluate the model\n",
    "y_pred = model.predict(X_test)\n",
    "\n",
    "# Print classification report\n",
    "print(\"Classification Report:\")\n",
    "print(classification_report(y_test, y_pred))\n",
    "\n",
    "# Print confusion matrix\n",
    "conf_matrix = confusion_matrix(y_test, y_pred)\n",
    "print(\"Confusion Matrix:\")\n",
    "print(conf_matrix)\n",
    "\n",
    "# Plot confusion matrix\n",
    "plt.figure(figsize=(8, 6))\n",
    "sns.heatmap(conf_matrix, annot=True, fmt='d', cmap='Blues', xticklabels=['Negative', 'Positive'], yticklabels=['Negative', 'Positive'])\n",
    "plt.xlabel('Predicted')\n",
    "plt.ylabel('Actual')\n",
    "plt.title('Confusion Matrix')\n",
    "plt.show()\n",
    "\n",
    "# Combine the reviews with their actual and predicted sentiments\n",
    "results = pd.DataFrame({\n",
    "    'review': data['review'][y_test.index],\n",
    "    'cleaned_review': data['cleaned_review'][y_test.index],\n",
    "    'actual_sentiment': y_test,\n",
    "    'predicted_sentiment': y_pred\n",
    "})\n",
    "\n",
    "# Show a few random examples\n",
    "print(results.sample(10))\n",
    "\n",
    "# Test the model with new, unseen movie reviews\n",
    "new_reviews = [\n",
    "    \"This movie was absolutely fantastic! The storyline was gripping and the characters were so well-developed.\",\n",
    "    \"I didn't like this movie at all. The plot was boring and the acting was terrible.\",\n",
    "]\n",
    "\n",
    "# Preprocess the new reviews\n",
    "new_reviews_cleaned = [preprocess_text(review) for review in new_reviews]\n",
    "\n",
    "# Convert to TF-IDF features\n",
    "new_reviews_tfidf = tfidf_vectorizer.transform(new_reviews_cleaned).toarray()\n",
    "\n",
    "# Predict the sentiment\n",
    "new_predictions = model.predict(new_reviews_tfidf)\n",
    "\n",
    "# Map the predictions to labels\n",
    "sentiment_map = {0: 'negative', 1: 'positive'}\n",
    "new_predictions_labels = [sentiment_map[pred] for pred in new_predictions]\n",
    "\n",
    "# Print the results\n",
    "for review, sentiment in zip(new_reviews, new_predictions_labels):\n",
    "    print(f\"Review: {review}\\nPredicted Sentiment: {sentiment}\\n\")\n"
   ]
  },
  {
   "cell_type": "code",
   "execution_count": 6,
   "metadata": {
    "colab": {
     "base_uri": "https://localhost:8080/"
    },
    "id": "42SCs2_bx8KN",
    "outputId": "dfc0302c-4075-455d-b294-6cbb8ebec152"
   },
   "outputs": [
    {
     "data": {
      "text/plain": [
       "['sentiment_model.pkl']"
      ]
     },
     "execution_count": 6,
     "metadata": {},
     "output_type": "execute_result"
    }
   ],
   "source": [
    "import joblib\n",
    "\n",
    "# Save the trained model to a file\n",
    "joblib.dump(model, 'sentiment_model.pkl')\n"
   ]
  },
  {
   "cell_type": "code",
   "execution_count": 7,
   "metadata": {
    "colab": {
     "base_uri": "https://localhost:8080/"
    },
    "id": "VNZky8Hf4ojt",
    "outputId": "c5669632-3f9d-453c-864c-e55da7d1fa53"
   },
   "outputs": [
    {
     "data": {
      "text/plain": [
       "['tfidf_vectorizer.pkl']"
      ]
     },
     "execution_count": 7,
     "metadata": {},
     "output_type": "execute_result"
    }
   ],
   "source": [
    "# Save the TF-IDF vectorizer to a file\n",
    "joblib.dump(tfidf_vectorizer, 'tfidf_vectorizer.pkl')\n"
   ]
  }
 ],
 "metadata": {
  "colab": {
   "provenance": []
  },
  "kernelspec": {
   "display_name": "Python 3 (ipykernel)",
   "language": "python",
   "name": "python3"
  },
  "language_info": {
   "codemirror_mode": {
    "name": "ipython",
    "version": 3
   },
   "file_extension": ".py",
   "mimetype": "text/x-python",
   "name": "python",
   "nbconvert_exporter": "python",
   "pygments_lexer": "ipython3",
   "version": "3.12.1"
  }
 },
 "nbformat": 4,
 "nbformat_minor": 4
}
